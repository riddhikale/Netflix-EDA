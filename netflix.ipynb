{
 "cells": [
  {
   "cell_type": "code",
   "execution_count": null,
   "id": "79372f18",
   "metadata": {},
   "outputs": [],
   "source": [
    "#Import python libraries\n",
    "import numpy as np\n",
    "import pandas as pd\n",
    "import matplotlib.pyplot as plt # visualizing data\n",
    "%matplotlib inline\n",
    "import seaborn as sns"
   ]
  },
  {
   "cell_type": "code",
   "execution_count": null,
   "id": "29fd7bd8",
   "metadata": {},
   "outputs": [],
   "source": [
    "#Import csv file\n",
    "df= pd.read_csv('netflix_titles.csv')\n",
    "df"
   ]
  },
  {
   "cell_type": "code",
   "execution_count": null,
   "id": "1066665f",
   "metadata": {},
   "outputs": [],
   "source": [
    "df.shape"
   ]
  },
  {
   "cell_type": "code",
   "execution_count": null,
   "id": "47137619",
   "metadata": {},
   "outputs": [],
   "source": [
    "df.head()"
   ]
  },
  {
   "cell_type": "code",
   "execution_count": null,
   "id": "237d6d44",
   "metadata": {},
   "outputs": [],
   "source": [
    "df.info()"
   ]
  },
  {
   "cell_type": "code",
   "execution_count": null,
   "id": "fd3f83a8",
   "metadata": {},
   "outputs": [],
   "source": [
    "# Check for null values\n",
    "pd.isnull(df).sum()"
   ]
  },
  {
   "cell_type": "code",
   "execution_count": null,
   "id": "16b34c7c",
   "metadata": {},
   "outputs": [],
   "source": [
    "# Drop null values\n",
    "df.dropna(inplace=True)"
   ]
  },
  {
   "cell_type": "code",
   "execution_count": null,
   "id": "efc7ff34",
   "metadata": {},
   "outputs": [],
   "source": [
    "# Drop duplicates (if any)\n",
    "df.drop_duplicates(inplace=True)"
   ]
  },
  {
   "cell_type": "code",
   "execution_count": null,
   "id": "ef9f0af2",
   "metadata": {},
   "outputs": [],
   "source": [
    "# Fill missing categorical values with 'Unknown'\n",
    "df['country'] = df['country'].fillna('Unknown')\n",
    "df['director'] = df['director'].fillna('Unknown')\n",
    "df['cast'] = df['cast'].fillna('Unknown')\n"
   ]
  },
  {
   "cell_type": "code",
   "execution_count": null,
   "id": "b90c0377",
   "metadata": {},
   "outputs": [],
   "source": [
    "# Convert date_added to datetime\n",
    "\n",
    "# Clean spaces from 'date_added' so we can convert it to datetime\n",
    "df['date_added'] = df['date_added'].str.strip()\n",
    "df['date_added'] = pd.to_datetime(df['date_added'])\n"
   ]
  },
  {
   "cell_type": "code",
   "execution_count": null,
   "id": "e96e034b",
   "metadata": {},
   "outputs": [],
   "source": [
    "# Check again\n",
    "df.info()"
   ]
  },
  {
   "cell_type": "code",
   "execution_count": null,
   "id": "056f7b95",
   "metadata": {},
   "outputs": [],
   "source": [
    "df.describe(include='all')"
   ]
  },
  {
   "cell_type": "code",
   "execution_count": null,
   "id": "d8d09c4d",
   "metadata": {},
   "outputs": [],
   "source": [
    "#Count number of movies and tv shows\n",
    "type_count= df['type'].value_counts()\n",
    "\n",
    "#Plot bar chart\n",
    "plt.bar(type_count.index, type_count.values, color=['blue', 'green'])\n",
    "plt.title(\"Movies v/s TV shows\")\n",
    "plt.xlabel(\"Type\")\n",
    "plt.ylabel(\"Count\")\n",
    "plt.show()\n",
    "\n",
    "print(type_count)"
   ]
  },
  {
   "cell_type": "markdown",
   "id": "119350bb",
   "metadata": {},
   "source": [
    "Netflix has more movies than TV shows"
   ]
  },
  {
   "cell_type": "code",
   "execution_count": null,
   "id": "89fffbba",
   "metadata": {},
   "outputs": [],
   "source": [
    "#Count content by country\n",
    "top_countries= df['country'].value_counts().head(10)\n",
    "\n",
    "#Plot bar chart\n",
    "plt.bar(top_countries.index, top_countries.values, color='orange')\n",
    "plt.title('Top 10 countries streaming on Netflix')\n",
    "plt.xticks(rotation=45, ha='right')\n",
    "plt.ylabel('Number of titles')\n",
    "plt.show()\n",
    "\n",
    "print(top_countries)"
   ]
  },
  {
   "cell_type": "markdown",
   "id": "cb762821",
   "metadata": {},
   "source": [
    "USA has the the most content on Netflix, followed by India and the UK."
   ]
  },
  {
   "cell_type": "code",
   "execution_count": null,
   "id": "336ae12f",
   "metadata": {},
   "outputs": [],
   "source": [
    "#Extract year from date_added\n",
    "df['year_added']= df['date_added'].dt.year\n",
    "\n",
    "#Count number of titles added each year\n",
    "year_count= df['year_added'].value_counts().sort_index()\n",
    "\n",
    "#Plot line chart to show number of titles added to Netflix each year\n",
    "plt.plot(year_count.index, year_count.values, marker='o', color='orange ')\n",
    "plt.title('Content added to Netflix over the years')\n",
    "plt.xlabel('Year')\n",
    "plt.ylabel('Number of titles added')\n",
    "plt.show()\n",
    "\n",
    "year_count\n"
   ]
  },
  {
   "cell_type": "markdown",
   "id": "80d6b08f",
   "metadata": {},
   "source": [
    "Rapid growth in Netflix content after 2015."
   ]
  },
  {
   "cell_type": "code",
   "execution_count": null,
   "id": "d61686a2",
   "metadata": {},
   "outputs": [],
   "source": [
    "# Filter the dataset to include only movies\n",
    "movies = df[df['type'] == 'Movie'].copy()\n",
    "\n",
    "# Remove \"min\" from duration and convert into numbers\n",
    "movies['duration_num'] = movies['duration'].str.replace(' min', '').astype(float)\n",
    "\n",
    "# Plot histogram of movie durations \n",
    "plt.figure(figsize=(10, 6))\n",
    "plt.hist(movies['duration_num'], bins=30, color='blue', edgecolor='black')\n",
    "plt.title('Distribution of Movie Durations')\n",
    "plt.xlabel('Duration (minutes)')\n",
    "plt.ylabel('Frequency')\n",
    "plt.show()\n",
    "\n",
    "\n",
    "print(\"Average Movie Duration:\", movies['duration_num'].mean())\n"
   ]
  },
  {
   "cell_type": "markdown",
   "id": "0a7f0018",
   "metadata": {},
   "source": [
    "The majority of movies have a duration of 80 to 120 minutes."
   ]
  },
  {
   "cell_type": "code",
   "execution_count": null,
   "id": "ba50d26f",
   "metadata": {},
   "outputs": [],
   "source": [
    "#Filter the dataset to include only TV shows\n",
    "tv_shows= df[df['type']== 'TV Show'].copy()\n",
    "\n",
    "#Convert duration into number of seasons\n",
    "tv_shows['seasons_num']= tv_shows['duration'].str.replace(' Season', '').str.replace('s', '').astype(int)\n",
    "\n",
    "#Plot bar chart to show TV shows with number of seasons\n",
    "plt.bar(tv_shows['seasons_num'].value_counts().index, tv_shows['seasons_num'].value_counts().values, color='green')\n",
    "plt.title('Distribution of TV show seasons')\n",
    "plt.xlabel('Number of Seasons')\n",
    "plt.ylabel('Count')\n",
    "plt.show()\n"
   ]
  },
  {
   "cell_type": "markdown",
   "id": "6b35af6c",
   "metadata": {},
   "source": [
    "Most TV shows run for 1-2 seasons"
   ]
  },
  {
   "cell_type": "code",
   "execution_count": null,
   "id": "9bebe22e",
   "metadata": {},
   "outputs": [],
   "source": [
    "#Split genres and count them\n",
    "all_genres=[]\n",
    "for g in df['listed_in'].dropna():\n",
    "    all_genres.extend(g.split(\", \"))\n",
    "\n",
    "#Top 10 common genres\n",
    "from collections import Counter\n",
    "genre_counts= Counter(all_genres).most_common(10)\n",
    "\n",
    "#Seperate genres and their counts for plotting\n",
    "genres = [item[0] for item in genre_counts]\n",
    "counts = [item[1] for item in genre_counts]\n",
    "\n",
    "#Plot bar chart to show top 10 most common genres on Netflix\n",
    "plt.bar(genres, counts, color='purple')\n",
    "plt.title('Top 10 genres on Netflix')\n",
    "plt.xticks(rotation=50, ha='right')\n",
    "plt.ylabel('Count')\n",
    "plt.show()"
   ]
  },
  {
   "cell_type": "markdown",
   "id": "08a2f9f5",
   "metadata": {},
   "source": [
    "Netflix is dominated by International content, Drama and Comedy."
   ]
  },
  {
   "cell_type": "markdown",
   "id": "38c6bb9e",
   "metadata": {},
   "source": [
    "###  Key Insights-\n",
    "1. Movies dominate over TV Shows.  \n",
    "2. USA contributes the most content, followed by India & UK.  \n",
    "3. Netflix experienced significant content growth after 2015.\n",
    "4. Most movies are around 100 minutes long.  \n",
    "5. Most TV Shows have just 1–2 seasons.  \n",
    "6. Drama and Comedy are the most popular genres.  \n",
    "\n",
    "### Conclusion-\n",
    "Netflix is movie-dominated, globally expanding (led by the U.S.), surged after 2015, prefers standard-length content, short TV shows, and focuses mainly on Drama and Comedy.  "
   ]
  },
  {
   "cell_type": "markdown",
   "id": "b25491c5",
   "metadata": {},
   "source": []
  }
 ],
 "metadata": {
  "kernelspec": {
   "display_name": "Python 3",
   "language": "python",
   "name": "python3"
  },
  "language_info": {
   "codemirror_mode": {
    "name": "ipython",
    "version": 3
   },
   "file_extension": ".py",
   "mimetype": "text/x-python",
   "name": "python",
   "nbconvert_exporter": "python",
   "pygments_lexer": "ipython3",
   "version": "3.13.5"
  }
 },
 "nbformat": 4,
 "nbformat_minor": 5
}
